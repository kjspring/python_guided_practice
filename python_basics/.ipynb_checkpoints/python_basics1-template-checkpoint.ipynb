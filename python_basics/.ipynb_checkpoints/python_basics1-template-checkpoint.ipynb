{
 "cells": [
  {
   "cell_type": "markdown",
   "id": "34c1f173",
   "metadata": {},
   "source": [
    "# Python Basics: Challenge & Review"
   ]
  },
  {
   "cell_type": "markdown",
   "id": "9b6d532c",
   "metadata": {},
   "source": [
    "## Challenge 1:\n",
    "\n",
    "> *Review: variables, data-types, simple math, conditional statements (`if` / `elif` / `else`).*\n",
    "\n",
    "You are working for a Real Estate agency and you want to help develop a calculator that will help home buyers. The tool you create will be embedded in the website for the customers to refer to.\n",
    "\n",
    "Your calculator should deal with two variables:\n",
    "1. **Price** of the house the customer wants to buy.\n",
    "2. **Whether or not** the customer has good credit.\n",
    "\n",
    "> ***Quiz!***\n",
    "> - *What **data types** will the above variables be?*\n",
    "\n",
    "---\n",
    "\n",
    "- The calculator should print out the **down-payment** the customers need to pay in order to buy their house.\n",
    "\n",
    "- Customers who have good credit need to put $5\\%$ down, while customers who do not have to put $20\\%$ down."
   ]
  },
  {
   "cell_type": "markdown",
   "id": "1237d16f",
   "metadata": {},
   "source": [
    "> *For a level-up, try writing this code in a function that accepts different parameters for these variables.*"
   ]
  },
  {
   "cell_type": "code",
   "execution_count": 13,
   "id": "51ec883d",
   "metadata": {},
   "outputs": [],
   "source": [
    "price = 300_000 #_ makes easier to see large numbers\n",
    "good_credit = True # green means built in\n",
    "bad_credit = False"
   ]
  },
  {
   "cell_type": "code",
   "execution_count": 24,
   "id": "5fdcec7e",
   "metadata": {},
   "outputs": [
    {
     "name": "stdout",
     "output_type": "stream",
     "text": [
      "The downpayment must be 15000!\n",
      "The downpayment must be 60000!\n"
     ]
    }
   ],
   "source": [
    "# My answer\n",
    "good_credit = True\n",
    "bad_credit = False\n",
    "\n",
    "def downpayment_calculator(price, credit):\n",
    "    if credit:\n",
    "        downpayment = 0.05\n",
    "    else:\n",
    "        downpayment = 0.2\n",
    "\n",
    "    return downpayment * price \n",
    "    \n",
    "print(f'The downpayment must be {int(downpayment_calculator(price, good_credit))}!')\n",
    "\n",
    "print(f'The downpayment must be {int(downpayment_calculator(price, bad_credit))}!')\n"
   ]
  },
  {
   "cell_type": "code",
   "execution_count": 25,
   "id": "0a0624f2",
   "metadata": {},
   "outputs": [
    {
     "name": "stdout",
     "output_type": "stream",
     "text": [
      "The downpayment must be 15000!\n",
      "The downpayment must be 60000!\n"
     ]
    }
   ],
   "source": [
    "# Josh's\n",
    "good_credit = True\n",
    "bad_credit = False\n",
    "\n",
    "def downpayment_calc(price, credit):\n",
    "    if credit:\n",
    "        return price * 0.05\n",
    "    return price * 0.20\n",
    "\n",
    "print(f'The downpayment must be {int(downpayment_calc(price, good_credit))}!')\n",
    "\n",
    "print(f'The downpayment must be {int(downpayment_calc(price, bad_credit))}!')"
   ]
  },
  {
   "cell_type": "markdown",
   "id": "f3bca0b2",
   "metadata": {},
   "source": [
    "## Challenge 2:\n",
    "\n",
    "*Review: `input()`, `while` loops, conditional statements (`if` / `elif` / `else`).*\n",
    "\n",
    "You want to code a game for the users in the waiting room at your Real Estate agency to play!\n",
    "\n",
    "The game is a simple one - a guessing game!\n",
    "\n",
    "---\n",
    "\n",
    "1. The computer will think of a number randomly from 1 - 10.\n",
    "> *To start, choose a number for the computer to \"pick\", for example: The computer will select **4** each time.*\n",
    "\n",
    "\n",
    "2. The user will guess a number.\n",
    "\n",
    "\n",
    "3. If the user gets the number right, the game prints out \"You win!\".\n",
    "> *If not, the user is allowed to guess again.*\n",
    "\n",
    "---\n",
    "\n",
    "***Level Up***\n",
    "\n",
    "*Include a stipulation where the user is only allowed three guesses.*\n",
    "\n",
    "*If by the third guess the user is not correct, print \"Sorry, you lose!\" and terminate the program.*"
   ]
  },
  {
   "cell_type": "code",
   "execution_count": 5,
   "id": "727a5805",
   "metadata": {},
   "outputs": [
    {
     "name": "stdout",
     "output_type": "stream",
     "text": [
      "Guess a number: a\n"
     ]
    },
    {
     "ename": "ValueError",
     "evalue": "invalid literal for int() with base 10: 'a'",
     "output_type": "error",
     "traceback": [
      "\u001b[1;31m---------------------------------------------------------------------------\u001b[0m",
      "\u001b[1;31mValueError\u001b[0m                                Traceback (most recent call last)",
      "\u001b[1;32m~\\AppData\\Local\\Temp/ipykernel_22016/1905697071.py\u001b[0m in \u001b[0;36m<module>\u001b[1;34m\u001b[0m\n\u001b[0;32m     10\u001b[0m     \u001b[1;32mreturn\u001b[0m\u001b[1;33m(\u001b[0m\u001b[1;34m'You win!'\u001b[0m\u001b[1;33m)\u001b[0m\u001b[1;33m\u001b[0m\u001b[1;33m\u001b[0m\u001b[0m\n\u001b[0;32m     11\u001b[0m \u001b[1;33m\u001b[0m\u001b[0m\n\u001b[1;32m---> 12\u001b[1;33m \u001b[0mguessing_game\u001b[0m\u001b[1;33m(\u001b[0m\u001b[1;33m)\u001b[0m\u001b[1;33m\u001b[0m\u001b[1;33m\u001b[0m\u001b[0m\n\u001b[0m",
      "\u001b[1;32m~\\AppData\\Local\\Temp/ipykernel_22016/1905697071.py\u001b[0m in \u001b[0;36mguessing_game\u001b[1;34m()\u001b[0m\n\u001b[0;32m      4\u001b[0m     \u001b[0manswer\u001b[0m \u001b[1;33m=\u001b[0m \u001b[1;36m4\u001b[0m\u001b[1;33m\u001b[0m\u001b[1;33m\u001b[0m\u001b[0m\n\u001b[0;32m      5\u001b[0m     \u001b[0mguess\u001b[0m \u001b[1;33m=\u001b[0m \u001b[0minput\u001b[0m\u001b[1;33m(\u001b[0m\u001b[1;34m'Guess a number: '\u001b[0m\u001b[1;33m)\u001b[0m\u001b[1;33m\u001b[0m\u001b[1;33m\u001b[0m\u001b[0m\n\u001b[1;32m----> 6\u001b[1;33m     \u001b[1;32mwhile\u001b[0m \u001b[0mint\u001b[0m\u001b[1;33m(\u001b[0m\u001b[0mguess\u001b[0m\u001b[1;33m)\u001b[0m \u001b[1;33m!=\u001b[0m \u001b[0manswer\u001b[0m\u001b[1;33m:\u001b[0m\u001b[1;33m\u001b[0m\u001b[1;33m\u001b[0m\u001b[0m\n\u001b[0m\u001b[0;32m      7\u001b[0m         \u001b[1;32mif\u001b[0m \u001b[0mstr\u001b[0m\u001b[1;33m(\u001b[0m\u001b[0mguess\u001b[0m\u001b[1;33m)\u001b[0m\u001b[1;33m:\u001b[0m\u001b[1;33m\u001b[0m\u001b[1;33m\u001b[0m\u001b[0m\n\u001b[0;32m      8\u001b[0m             \u001b[0mguess\u001b[0m \u001b[1;33m=\u001b[0m \u001b[0minput\u001b[0m\u001b[1;33m(\u001b[0m\u001b[1;34m'Guess a number! '\u001b[0m\u001b[1;33m)\u001b[0m\u001b[1;33m\u001b[0m\u001b[1;33m\u001b[0m\u001b[0m\n",
      "\u001b[1;31mValueError\u001b[0m: invalid literal for int() with base 10: 'a'"
     ]
    }
   ],
   "source": [
    "# My answer\n",
    "def guessing_game():\n",
    "    #answer = random.random(0, 10)\n",
    "    answer = 4\n",
    "    guess = input('Guess a number: ')\n",
    "    while int(guess) != answer:\n",
    "        if str(guess):\n",
    "            guess = input('Guess a number! ')\n",
    "        guess = input('Guess again! ')\n",
    "    return('You win!')\n",
    "\n",
    "guessing_game()"
   ]
  },
  {
   "cell_type": "code",
   "execution_count": 3,
   "id": "8faf0efc",
   "metadata": {},
   "outputs": [
    {
     "name": "stdout",
     "output_type": "stream",
     "text": [
      "Select a number between 1 and 10:2\n",
      "Select a number between 1 and 10:3\n",
      "Select a number between 1 and 10:4\n"
     ]
    },
    {
     "data": {
      "text/plain": [
       "'You win!'"
      ]
     },
     "execution_count": 3,
     "metadata": {},
     "output_type": "execute_result"
    }
   ],
   "source": [
    "def guessing_game():\n",
    "    compnum = 4\n",
    "    counter = 0\n",
    "\n",
    "    while counter < 3:\n",
    "        usernum = input('Select a number between 1 and 10:')\n",
    "        if int(usernum) == compnum:\n",
    "            return('You win!')\n",
    "        counter += 1\n",
    "        if counter == 3:\n",
    "            return('Sorry, you have exceeded the maximum number of guesses')\n",
    "        \n",
    "guessing_game()"
   ]
  },
  {
   "cell_type": "code",
   "execution_count": 33,
   "id": "086328d9",
   "metadata": {},
   "outputs": [
    {
     "name": "stdout",
     "output_type": "stream",
     "text": [
      "Guess a number4\n"
     ]
    }
   ],
   "source": [
    "answer = 4\n",
    "guess = int(input('Guess a number'))\n",
    "while guess != answer:\n",
    "    guess = input('Guess again! ')\n",
    "    "
   ]
  },
  {
   "cell_type": "code",
   "execution_count": null,
   "id": "00fa597c",
   "metadata": {},
   "outputs": [],
   "source": []
  }
 ],
 "metadata": {
  "kernelspec": {
   "display_name": "Python 3 (ipykernel)",
   "language": "python",
   "name": "python3"
  },
  "language_info": {
   "codemirror_mode": {
    "name": "ipython",
    "version": 3
   },
   "file_extension": ".py",
   "mimetype": "text/x-python",
   "name": "python",
   "nbconvert_exporter": "python",
   "pygments_lexer": "ipython3",
   "version": "3.9.7"
  },
  "toc": {
   "base_numbering": 1,
   "nav_menu": {},
   "number_sections": false,
   "sideBar": true,
   "skip_h1_title": false,
   "title_cell": "Table of Contents",
   "title_sidebar": "Contents",
   "toc_cell": false,
   "toc_position": {},
   "toc_section_display": true,
   "toc_window_display": true
  }
 },
 "nbformat": 4,
 "nbformat_minor": 5
}
